{
  "nbformat": 4,
  "nbformat_minor": 0,
  "metadata": {
    "colab": {
      "provenance": [],
      "authorship_tag": "ABX9TyM2deKRSpKHA9NIbcyZxp7o",
      "include_colab_link": true
    },
    "kernelspec": {
      "name": "python3",
      "display_name": "Python 3"
    },
    "language_info": {
      "name": "python"
    }
  },
  "cells": [
    {
      "cell_type": "markdown",
      "metadata": {
        "id": "view-in-github",
        "colab_type": "text"
      },
      "source": [
        "<a href=\"https://colab.research.google.com/github/kusumapriya630/DSAO3-NLP/blob/main/Tokenizatoin.ipynb\" target=\"_parent\"><img src=\"https://colab.research.google.com/assets/colab-badge.svg\" alt=\"Open In Colab\"/></a>"
      ]
    },
    {
      "cell_type": "code",
      "execution_count": 3,
      "metadata": {
        "colab": {
          "base_uri": "https://localhost:8080/"
        },
        "id": "A5CzkHLizlQO",
        "outputId": "019208ff-531f-479d-a5ff-61a815957254"
      },
      "outputs": [
        {
          "output_type": "stream",
          "name": "stderr",
          "text": [
            "[nltk_data] Downloading package punkt to /root/nltk_data...\n",
            "[nltk_data]   Unzipping tokenizers/punkt.zip.\n"
          ]
        },
        {
          "output_type": "stream",
          "name": "stdout",
          "text": [
            "Tokenized words:\n",
            "['Tokenization', 'is', 'a', 'crucial', 'step', 'in', 'natural', 'language', 'processing', '.', 'It', 'breaks', 'text', 'into', 'smaller', 'units', 'called', 'tokens', '.']\n",
            "\n",
            "Tokenized sentences:\n",
            "['Tokenization is a crucial step in natural language processing.', 'It breaks text into smaller units called tokens.']\n"
          ]
        }
      ],
      "source": [
        "import nltk\n",
        "from nltk.tokenize import word_tokenize, sent_tokenize\n",
        "nltk.download('punkt')  # Download the Punkt tokenizer models\n",
        "def tokenize_words(text):\n",
        "    # Tokenize the text into words\n",
        "    words = word_tokenize(text)\n",
        "    return words\n",
        "def tokenize_sentences(text):\n",
        "    # Tokenize the text into sentences\n",
        "    sentences = sent_tokenize(text)\n",
        "    return sentences\n",
        "if __name__ == \"__main__\":\n",
        "    text = \"Tokenization is a crucial step in natural language processing. It breaks text into smaller units called tokens.\"\n",
        "    words = tokenize_words(text)\n",
        "    print(\"Tokenized words:\")\n",
        "    print(words)\n",
        "    sentences = tokenize_sentences(text)\n",
        "    print(\"\\nTokenized sentences:\")\n",
        "    print(sentences)\n"
      ]
    }
  ]
}