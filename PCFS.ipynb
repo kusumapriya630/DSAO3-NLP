{
  "nbformat": 4,
  "nbformat_minor": 0,
  "metadata": {
    "colab": {
      "provenance": [],
      "authorship_tag": "ABX9TyPn2eGnLaYke/1dak4Enp7s",
      "include_colab_link": true
    },
    "kernelspec": {
      "name": "python3",
      "display_name": "Python 3"
    },
    "language_info": {
      "name": "python"
    }
  },
  "cells": [
    {
      "cell_type": "markdown",
      "metadata": {
        "id": "view-in-github",
        "colab_type": "text"
      },
      "source": [
        "<a href=\"https://colab.research.google.com/github/kusumapriya630/DSAO3-NLP/blob/main/PCFS.ipynb\" target=\"_parent\"><img src=\"https://colab.research.google.com/assets/colab-badge.svg\" alt=\"Open In Colab\"/></a>"
      ]
    },
    {
      "cell_type": "code",
      "execution_count": null,
      "metadata": {
        "id": "EOySIBEj5vq4"
      },
      "outputs": [],
      "source": []
    },
    {
      "cell_type": "code",
      "source": [
        "import nltk\n",
        "from nltk import PCFG\n",
        "from nltk import CFG\n",
        "from nltk.parse.generate import generate\n",
        "pcfg_grammar = PCFG.fromstring(\"\"\"\n",
        "    S -> NP VP [1.0]\n",
        "    VP -> V NP [0.7] | V [0.3]\n",
        "    NP -> Det N [0.5] | NP PP [0.3] | 'John' [0.2]\n",
        "    PP -> P NP [1.0]\n",
        "    Det -> 'the' [0.6] | 'a' [0.4]\n",
        "    N -> 'dog' [0.6] | 'cat' [0.4]\n",
        "    V -> 'chased' [0.7] | 'saw' [0.3]\n",
        "    P -> 'with' [0.6] | 'in' [0.4]\n",
        "\"\"\")\n",
        "print(\"Generated sentences:\")\n",
        "for sentence in generate(pcfg_grammar, n=5):\n",
        "    print(' '.join(sentence))\n",
        "parser = nltk.ChartParser(pcfg_grammar)\n",
        "sentence = \"John chased the dog\".split()\n",
        "for tree in parser.parse(sentence):\n",
        "    tree.pretty_print()\n",
        "\n"
      ],
      "metadata": {
        "colab": {
          "base_uri": "https://localhost:8080/"
        },
        "id": "slip8yWC5zd_",
        "outputId": "db298bcd-8c58-40c0-fc17-f9e5254a0b7c"
      },
      "execution_count": 1,
      "outputs": [
        {
          "output_type": "stream",
          "name": "stdout",
          "text": [
            "Generated sentences:\n",
            "the dog chased the dog\n",
            "the dog chased the cat\n",
            "the dog chased a dog\n",
            "the dog chased a cat\n",
            "the dog chased the dog with the dog\n",
            "             S             \n",
            "  ___________|___           \n",
            " |               VP        \n",
            " |      _________|___       \n",
            " |     |             NP    \n",
            " |     |          ___|___   \n",
            " NP    V        Det      N \n",
            " |     |         |       |  \n",
            "John chased     the     dog\n",
            "\n"
          ]
        }
      ]
    }
  ]
}