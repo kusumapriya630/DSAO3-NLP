{
  "nbformat": 4,
  "nbformat_minor": 0,
  "metadata": {
    "colab": {
      "provenance": [],
      "authorship_tag": "ABX9TyNHSfbmo5YDTy4W8rFORELv",
      "include_colab_link": true
    },
    "kernelspec": {
      "name": "python3",
      "display_name": "Python 3"
    },
    "language_info": {
      "name": "python"
    }
  },
  "cells": [
    {
      "cell_type": "markdown",
      "metadata": {
        "id": "view-in-github",
        "colab_type": "text"
      },
      "source": [
        "<a href=\"https://colab.research.google.com/github/kusumapriya630/DSAO3-NLP/blob/main/random%20sentence.ipynb\" target=\"_parent\"><img src=\"https://colab.research.google.com/assets/colab-badge.svg\" alt=\"Open In Colab\"/></a>"
      ]
    },
    {
      "cell_type": "code",
      "execution_count": 1,
      "metadata": {
        "colab": {
          "base_uri": "https://localhost:8080/"
        },
        "id": "rsUPKwjPwuNk",
        "outputId": "8f4d8cdb-a4d6-4fe5-a54c-bac93a2c96a6"
      },
      "outputs": [
        {
          "output_type": "stream",
          "name": "stdout",
          "text": [
            "The cat jumps small.\n",
            "The house eats quick.\n",
            "She sleeps dog.\n",
            "I eats tall dog.\n",
            "He reads smart book loudly.\n"
          ]
        }
      ],
      "source": [
        "import random\n",
        "sentence_patterns = [\n",
        "    \"The {noun} {verb} {adjective}.\",\n",
        "    \"{Noun} {verb} {adjective} {noun}.\",\n",
        "    \"I {verb} {adjective} {noun}.\",\n",
        "    \"She {verb} {noun}.\",\n",
        "    \"He {verb} {adjective} {noun} {adverb}.\",\n",
        "]\n",
        "nouns = [\"cat\", \"dog\", \"ball\", \"house\", \"book\"]\n",
        "verbs = [\"runs\", \"jumps\", \"sleeps\", \"reads\", \"eats\"]\n",
        "adjectives = [\"quick\", \"lazy\", \"smart\", \"tall\", \"small\"]\n",
        "adverbs = [\"slowly\", \"quickly\", \"loudly\", \"silently\"]\n",
        "Noun = \"John\"\n",
        "def construct_sentence():\n",
        "    pattern = random.choice(sentence_patterns)\n",
        "    sentence = pattern.format(\n",
        "        noun=random.choice(nouns),\n",
        "        verb=random.choice(verbs),\n",
        "        adjective=random.choice(adjectives),\n",
        "        adverb=random.choice(adverbs),\n",
        "        Noun=Noun,\n",
        "    )\n",
        "    return sentence\n",
        "for _ in range(5):\n",
        "    sentence = construct_sentence()\n",
        "    print(sentence)"
      ]
    }
  ]
}